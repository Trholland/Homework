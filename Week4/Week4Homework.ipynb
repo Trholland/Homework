{
 "cells": [
  {
   "cell_type": "markdown",
   "metadata": {},
   "source": [
    "#### What does one need to do to use a module?\n",
    "- To use a module, it must be imported first. An example being:"
   ]
  },
  {
   "cell_type": "code",
   "execution_count": null,
   "metadata": {},
   "outputs": [],
   "source": [
    "import random as rm"
   ]
  },
  {
   "cell_type": "markdown",
   "metadata": {},
   "source": [
    "#### Name a Module (not the DateTime Nodule) we looked at and write a line or 2 of code as an example using this module.\n",
    "- random"
   ]
  },
  {
   "cell_type": "code",
   "execution_count": null,
   "metadata": {},
   "outputs": [],
   "source": [
    "import random\n",
    "x = ['apple', 'peach', 'orange', 'pineapple']\n",
    "print(random.choice(x))"
   ]
  },
  {
   "cell_type": "markdown",
   "metadata": {},
   "source": [
    "#### What is a benefit of using Exception handling?\n",
    "\n",
    "- If you expect an error to happen somewhere, you can tell Python what to do in that case rather than ending the entire script.\n"
   ]
  },
  {
   "cell_type": "markdown",
   "metadata": {},
   "source": [
    "#### What are the 4 components used for Python Exception Handling?\n",
    "- try\n",
    "- except\n",
    "- else\n",
    "- finally"
   ]
  },
  {
   "cell_type": "markdown",
   "metadata": {},
   "source": [
    "#### NumPy arrays are like what Python data type?\n",
    "\n",
    "- Arrays are similar to lists"
   ]
  },
  {
   "cell_type": "markdown",
   "metadata": {},
   "source": [
    "#### What is one of the main benefits of using NumPy arrays.\n",
    "\n",
    "- It is easier to find specific values inside of an array compared to lists."
   ]
  },
  {
   "cell_type": "markdown",
   "metadata": {},
   "source": [
    "#### What is one of the main requirements about the 'dtype' of NumPy arrays?"
   ]
  },
  {
   "cell_type": "markdown",
   "metadata": {},
   "source": [
    "#### Of the 10 uses of NumPy, name 2.\n",
    "1. Statistical operations\n",
    "2. Broadcasting"
   ]
  },
  {
   "cell_type": "markdown",
   "metadata": {},
   "source": [
    "#### Name one of the other libraries we'll use with NumPy?\n",
    "- Pandas"
   ]
  },
  {
   "cell_type": "markdown",
   "metadata": {},
   "source": [
    "#### What is the shape of NumPy arrays?\n",
    "- A tuple"
   ]
  },
  {
   "cell_type": "markdown",
   "metadata": {},
   "source": [
    "#### What is a Tensor?\n",
    "- An array with 3 or more dimensions"
   ]
  },
  {
   "cell_type": "markdown",
   "metadata": {},
   "source": [
    "#### Name a reason why it's better using NumPy for Data Analysis than using a Python List?\n",
    "- Arrays use less memory, run faster, and are more convenient to use than lists."
   ]
  },
  {
   "cell_type": "markdown",
   "metadata": {},
   "source": [
    "#### When creating an \"empty\" array, where do the elements come from?"
   ]
  },
  {
   "cell_type": "markdown",
   "metadata": {},
   "source": [
    "---\n",
    "## __Flow Control Methods:__"
   ]
  },
  {
   "cell_type": "markdown",
   "metadata": {},
   "source": [
    "1. Create an if statement: if 'age' is greater than or equal to 25, print \"Renting a car is more affordable\", however if 'age' is less than 25, print \"Renting a car is very expensive.\""
   ]
  },
  {
   "cell_type": "code",
   "execution_count": 4,
   "metadata": {},
   "outputs": [],
   "source": [
    "age = input('Input age:')\n",
    "if int(age) >= 25:\n",
    "    print('Renting a car is more affordable')\n",
    "else\n",
    "    print('Renting a car is very expensive')"
   ]
  },
  {
   "cell_type": "markdown",
   "metadata": {},
   "source": [
    "2. Create and chain an if-else statement: if 'age' is greater than or equal to 25, print \"Renting a car is more affordable.\" If 'age' is less than 25 but greater than or equal to 18, print \"Renting a car is very expensive.\" Finally, if age is less than 18, print \"You cannot legally rent a car.\""
   ]
  },
  {
   "cell_type": "code",
   "execution_count": null,
   "metadata": {},
   "outputs": [],
   "source": [
    "age = input('Input age:')\n",
    "if int(age) >= 25:\n",
    "    print('Renting a car is more affordable')\n",
    "elif int(age) >= 18:\n",
    "    print('Renting a car is very expensive')\n",
    "else:\n",
    "    print('You can not legally rent a car.')"
   ]
  },
  {
   "cell_type": "markdown",
   "metadata": {},
   "source": [
    "3. Loop over the following string to (1) count all the characters in the string and (2) print out all the vowels -- \"The quick brown fox jumps over the lazy dog\""
   ]
  },
  {
   "cell_type": "code",
   "execution_count": 1,
   "metadata": {},
   "outputs": [
    {
     "name": "stdout",
     "output_type": "stream",
     "text": [
      "43\n",
      "e\n",
      "u\n",
      "i\n",
      "o\n",
      "o\n",
      "u\n",
      "o\n",
      "e\n",
      "e\n",
      "a\n",
      "o\n"
     ]
    }
   ],
   "source": [
    "string1 = 'The quick brown fox jumps over the lazy dog'\n",
    "vowels = 'aeiouAEIOU'\n",
    "print(len(string1))\n",
    "for char in string1:\n",
    "    if char in vowels:\n",
    "        print(char)\n"
   ]
  },
  {
   "cell_type": "markdown",
   "metadata": {},
   "source": [
    "4. Write a nested loop that prints out every piece of clothing from the couture list, in every fashionable color from the panettone set: couture = [\"trousers\", \"blouse\", \"bandana\", \"cumber band\", \"blazer\", \"vest\", \"french beret\", \"scarf\", \"stole\"] and panettone = {\"cerise\", \"fuchsia\", \"aqua\", \"maple\", \"auburn\", \"burnt sienna\", \"gunmetal blue\", \"Dark Sapphire\"}"
   ]
  },
  {
   "cell_type": "code",
   "execution_count": null,
   "metadata": {},
   "outputs": [],
   "source": [
    "couture = [\"trousers\", \"blouse\", \"bandana\", \"cumber band\", \"blazer\", \"vest\", \"french beret\", \"scarf\", \"stole\"]\n",
    "panettone = {\"cerise\", \"fuchsia\", \"aqua\", \"maple\", \"auburn\", \"burnt sienna\", \"gunmetal blue\", \"Dark Sapphire\"}\n",
    "\n",
    "for x in couture:\n",
    "    for y in panettone:\n",
    "        print(x,y)"
   ]
  },
  {
   "cell_type": "markdown",
   "metadata": {},
   "source": [
    "5. Use range as a loop to calculate the sum of all the numbers from 1 to 100"
   ]
  },
  {
   "cell_type": "code",
   "execution_count": 1,
   "metadata": {},
   "outputs": [
    {
     "name": "stdout",
     "output_type": "stream",
     "text": [
      "5050\n"
     ]
    }
   ],
   "source": [
    "\n",
    "def totalSum():\n",
    "    num = 0\n",
    "    total = 0\n",
    "    for x in range(100):\n",
    "        num = num + 1\n",
    "        total = total + num\n",
    "    print(total)\n",
    "\n",
    "totalSum()\n",
    "\n"
   ]
  },
  {
   "cell_type": "markdown",
   "metadata": {},
   "source": [
    "6. Print the second item in this fruits list. [\"apple\", \"banana\", \"cherry\"]"
   ]
  },
  {
   "cell_type": "code",
   "execution_count": null,
   "metadata": {},
   "outputs": [],
   "source": [
    "fruits = ['apple', 'banana', 'cherry']\n",
    "print(fruits[1])"
   ]
  },
  {
   "cell_type": "markdown",
   "metadata": {},
   "source": [
    "7. Change the value from \"apple\" to \"kiwi\", in the fruits list. [\"apple\", \"banana\", \"cherry\"]"
   ]
  },
  {
   "cell_type": "code",
   "execution_count": null,
   "metadata": {},
   "outputs": [],
   "source": [
    "fruits = ['apple', 'banana', 'cherry']\n",
    "fruits[0] = 'kiwi'\n",
    "print(fruits)"
   ]
  },
  {
   "cell_type": "markdown",
   "metadata": {},
   "source": [
    "8. Use the append method to add \"orange\" to the fruits list. [\"apple\", \"banana\", \"cherry\"]"
   ]
  },
  {
   "cell_type": "code",
   "execution_count": null,
   "metadata": {},
   "outputs": [],
   "source": [
    "fruits = ['apple', 'banana', 'cherry']\n",
    "\n",
    "fruits.append('orange')\n",
    "\n",
    "print(fruits)"
   ]
  },
  {
   "cell_type": "markdown",
   "metadata": {},
   "source": [
    "9. Use the insert method to add \"lemon\" as the second item in the fruits list. [\"apple\", \"banana\", \"cherry\"]"
   ]
  },
  {
   "cell_type": "code",
   "execution_count": null,
   "metadata": {},
   "outputs": [],
   "source": [
    "fruits = ['apple', 'banana', 'cherry']\n",
    "fruits.insert(1, 'lemon')\n",
    "print(fruits)"
   ]
  },
  {
   "cell_type": "markdown",
   "metadata": {},
   "source": [
    "10. Use the remove method to remove \"banana\" from the fruits list. [\"apple\", \"banana\", \"cherry\"]"
   ]
  },
  {
   "cell_type": "code",
   "execution_count": null,
   "metadata": {},
   "outputs": [],
   "source": [
    "fruits = ['apple', 'banana', 'cherry']\n",
    "fruits.remove('banana')\n",
    "print(fruits)"
   ]
  },
  {
   "cell_type": "markdown",
   "metadata": {},
   "source": [
    "11. Use negative indexing to print the 3rd and 2nd to last items in the list. [\"apple\", \"banana\", \"cherry\", \"orange\", \"kiwi\", \"melon\", \"mango\"]"
   ]
  },
  {
   "cell_type": "code",
   "execution_count": null,
   "metadata": {},
   "outputs": [],
   "source": [
    "fruits = [\"apple\", \"banana\", \"cherry\", \"orange\", \"kiwi\", \"melon\", \"mango\"]\n",
    "\n",
    "print(fruits[-3], fruits[-2])\n",
    "print(fruits[-3:-1])"
   ]
  },
  {
   "cell_type": "markdown",
   "metadata": {},
   "source": [
    "12. Use a range of indexes to print the third, fourth, and fifth item in the list. [\"apple\", \"banana\", \"cherry\", \"orange\", \"kiwi\", \"melon\", \"mango\"]"
   ]
  },
  {
   "cell_type": "code",
   "execution_count": null,
   "metadata": {},
   "outputs": [],
   "source": [
    "fruits = [\"apple\", \"banana\", \"cherry\", \"orange\", \"kiwi\", \"melon\", \"mango\"]\n",
    "print(fruits[2:5])"
   ]
  },
  {
   "cell_type": "markdown",
   "metadata": {},
   "source": [
    "13. Use the correct syntax to print the number of items in the list. [\"apple\", \"banana\", \"cherry\", \"orange\", \"kiwi\", \"melon\", \"mango\"]"
   ]
  },
  {
   "cell_type": "code",
   "execution_count": null,
   "metadata": {},
   "outputs": [],
   "source": [
    "fruits = [\"apple\", \"banana\", \"cherry\", \"orange\", \"kiwi\", \"melon\", \"mango\"]\n",
    "print(len(fruits))"
   ]
  },
  {
   "cell_type": "markdown",
   "metadata": {},
   "source": [
    "14. Use the correct syntax to sort this list in reverse order [\"apple\", \"banana\", \"cherry\", \"orange\", \"kiwi\", \"melon\", \"mango\"]"
   ]
  },
  {
   "cell_type": "code",
   "execution_count": null,
   "metadata": {},
   "outputs": [],
   "source": [
    "fruits = [\"apple\", \"banana\", \"cherry\", \"orange\", \"kiwi\", \"melon\", \"mango\"]\n",
    "fruits.sort(reverse=True)\n",
    "print(fruits)"
   ]
  },
  {
   "cell_type": "code",
   "execution_count": null,
   "metadata": {},
   "outputs": [],
   "source": [
    "import datetime as dt\n",
    "todayDate = dt.datetime.now()\n",
    "print(todayDate.strftime('%B'))\n",
    "\n",
    "day = 'Sunday'\n",
    "\n",
    "def greeting():\n",
    "    name = input('Input name:')\n",
    "    day = input('Input day:')\n",
    "    print(f'Hello {name}! Happy {day}!')\n",
    "    print(f'Hello {name}! Happy Sunday!')\n",
    "\n",
    "x = 'Hello'\n",
    "try:\n",
    "    print(hello)\n",
    "except NameError:\n",
    "    print('Invalid Name!')"
   ]
  }
 ],
 "metadata": {
  "kernelspec": {
   "display_name": "Python 3",
   "language": "python",
   "name": "python3"
  },
  "language_info": {
   "codemirror_mode": {
    "name": "ipython",
    "version": 3
   },
   "file_extension": ".py",
   "mimetype": "text/x-python",
   "name": "python",
   "nbconvert_exporter": "python",
   "pygments_lexer": "ipython3",
   "version": "3.12.7"
  }
 },
 "nbformat": 4,
 "nbformat_minor": 2
}
