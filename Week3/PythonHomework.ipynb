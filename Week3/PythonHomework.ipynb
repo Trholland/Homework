{
 "cells": [
  {
   "cell_type": "markdown",
   "metadata": {},
   "source": [
    "Q: What is an Algorithm?\n",
    "- A series of steps to solve a problem"
   ]
  },
  {
   "cell_type": "markdown",
   "metadata": {},
   "source": [
    "Q: Variable names may not start with certain characters - name two.\n",
    "1. Numbers\n",
    "2. Must start with a letter or underscore"
   ]
  },
  {
   "cell_type": "markdown",
   "metadata": {},
   "source": [
    "Q: What is a semantic error?\n",
    "- Semantic errors occur when the code is grammatically correct but does not produce the expected results"
   ]
  },
  {
   "cell_type": "markdown",
   "metadata": {},
   "source": [
    "Q: What is the #1 rule of Python?\n",
    "- Complexity is the opposite of efficiency."
   ]
  },
  {
   "cell_type": "markdown",
   "metadata": {},
   "source": [
    "Q: List 5 Python reserved words\n",
    "- FALSE\n",
    "- TRUE\n",
    "- else\n",
    "- except\n",
    "- global"
   ]
  },
  {
   "cell_type": "markdown",
   "metadata": {},
   "source": [
    "---\n",
    "Write a multi-line string with your name, favorite food, and dream job on 3 different lines"
   ]
  },
  {
   "cell_type": "code",
   "execution_count": null,
   "metadata": {},
   "outputs": [],
   "source": [
    "a = \"\"\"\n",
    "    Tory Holland\n",
    "    Cheesecake\n",
    "    Librarian\n",
    "    \"\"\"\n",
    "print(a)"
   ]
  },
  {
   "cell_type": "markdown",
   "metadata": {},
   "source": [
    "Assign 5 different data types to 5 different variables. At least one datatype must be a string\n",
    "- Print the length of your string\n",
    "- Print the index value of the 4th character in your string"
   ]
  },
  {
   "cell_type": "code",
   "execution_count": null,
   "metadata": {},
   "outputs": [],
   "source": [
    "a = 27\n",
    "b = 27.5\n",
    "c = [\"June\", 1997, 9]\n",
    "d = \"Holland\"\n",
    "e = {\"Month\" : \"October\", \"Day\" : 9}\n",
    "print(len(d))\n",
    "print(d[4])\n"
   ]
  },
  {
   "cell_type": "markdown",
   "metadata": {},
   "source": [
    "Create a new variable called savvy, and assign it the string with this phrase \"Learning Data Analytics and Python is Awesome!\"\n",
    "- Return a range of characters that slices the above string from the beginning of \"ing\" up to before \"and\"\n",
    "- Replace \"Awesome\" with \"great\" in the string\n",
    "- Test and print the savvy string to see it contains \"Python\""
   ]
  },
  {
   "cell_type": "code",
   "execution_count": null,
   "metadata": {},
   "outputs": [],
   "source": [
    "savvy = \"Learning Data Analytics and Python is Awesome!\"\n",
    "print(savvy[5:-24])\n",
    "print(savvy.replace(\"Awesome\", \"Great\"))\n",
    "print(savvy.find(\"Python\") != -1)"
   ]
  },
  {
   "cell_type": "markdown",
   "metadata": {},
   "source": [
    "Create and assign 3 more variables called name, age and length using the multi-variable naming method\n",
    "- Format a new string called 'miniBio' using variables in curly brackets to complete - this phrase... \"Hi my name is (name), I am (tall) and (so) old today.\"\n",
    "- Print 'miniBio'\n",
    "- Cast and print the age variable to a float"
   ]
  },
  {
   "cell_type": "code",
   "execution_count": null,
   "metadata": {},
   "outputs": [],
   "source": [
    "name, age, length = \"Tory Holland\", \"27\", \"5'6\"\n",
    "miniBio = (\"Hi, my name is \" + (name) + \", I am \"  + (length) + \" and \" + (age) + \" years old today \")\n",
    "print(miniBio)\n",
    "print(float(age))\n"
   ]
  },
  {
   "cell_type": "markdown",
   "metadata": {},
   "source": [
    "### Complex Data Types\n",
    "\n",
    "Create a list of at least 5 elements of mixed data types\n",
    "- Replace a part of it with something else\n",
    "- Append or insert several more items to the list\n",
    "- Find and print the length of the list\n",
    "- Slice a sub-section of the 1st list, and save it to a different 2nd list\n",
    "- Print the 2nd list\n",
    "- Extend your original list with the 2nd list sliced above\n",
    "- Create a new list called \"simList\" containing at least 5 elements of the same data type, either string, integer, float, or Boolean\n",
    "- Sort \"simList\", and print the list\n",
    "- Copy the \"simList\" list to another 3rd list\n",
    "- Add the 2nd and 3rd lists together into a 4th list"
   ]
  },
  {
   "cell_type": "code",
   "execution_count": null,
   "metadata": {},
   "outputs": [],
   "source": [
    "elements = [27, 27.5, \"Tory\", \"Holland\", True]\n",
    "elements.append(\"Bag\")\n",
    "elements.append(\"Sword\")\n",
    "elements.append(67)\n",
    "elements.append(68.9)\n",
    "print(str(len(elements)))\n",
    "elementsCopy = elements[0:4]\n",
    "print(elementsCopy)\n",
    "elements.append(elementsCopy)\n",
    "simList = [10, 20, 30, 40, 50]\n",
    "simList.sort(reverse=True)\n",
    "print(simList)\n",
    "simListCopy1 = simList.copy()\n",
    "simList2 = simList + simListCopy1\n",
    "print(simList2)"
   ]
  },
  {
   "cell_type": "markdown",
   "metadata": {},
   "source": [
    "Create a tuple of about 5 elements\n",
    "- Multiply your tuple by 3 and save it to a new 2nd tuple\n",
    "- Access and print the 12th element from the 2nd tuple\n",
    "- Sort the 2nd tuple and print it\n",
    "- Copy 4 specific elements from your 2nd tuple to a new 3nd tuple\n",
    "- Unpack the 3rd tuple into 4 variables and print these variables\n",
    "- Create a 4th tuple with single item 50 and print this tuple\n",
    "- Add the 2nd and 3rd tuple together into a 5th tuple and print the tuple"
   ]
  },
  {
   "cell_type": "code",
   "execution_count": null,
   "metadata": {},
   "outputs": [],
   "source": [
    "x = (1, 2, 4, 8, 16)\n",
    "x2 = (x*3)\n",
    "print(x2[12])\n",
    "sorted(x2)\n",
    "print(x2)\n",
    "x3 = (x2[1],x2[3],x2[5],x2[8])\n",
    "print(x3)\n",
    "a, b, c, d = x3[0], x3[1], x3[2], x3[3]\n",
    "x4 = (50,)\n",
    "print(x4)\n",
    "x5 = x2+x3\n",
    "print(x5)"
   ]
  },
  {
   "cell_type": "markdown",
   "metadata": {},
   "source": [
    "Create a set of about 3 elements\n",
    "- Add a list of fruits to the above set and print the result\n",
    "- Add a car element to your set\n",
    "- Create a 2nd set with a few odd items\n",
    "- Save the union of 1st set and 2nd set to a 3rd set\n",
    "- Pop an element from the 2nd set, and print the remainder of the set\n",
    "- Clear the 1st set and print the result\n",
    "- Discard an element, and remove another element from the 3rd set\n",
    "- Print the remainder of the 3rd set"
   ]
  },
  {
   "cell_type": "code",
   "execution_count": 10,
   "metadata": {},
   "outputs": [
    {
     "name": "stdout",
     "output_type": "stream",
     "text": [
      "{'orange', 'blueberry', 'apple', 'watermelon', 'pineapple', 'strawberry'}\n",
      "{1, 3, 'orange', 5, 'blueberry', 7, 'apple', 'watermelon', 'pineapple', 'strawberry'}\n",
      "{3, 5, 7}\n",
      "set()\n",
      "{1, 3, 'orange', 'blueberry', 7, 'apple', 'watermelon', 'pineapple', 'strawberry'}\n"
     ]
    }
   ],
   "source": [
    "s1 = {\"apple\", \"orange\", \"pineapple\"}\n",
    "s1.add(\"strawberry\")\n",
    "s1.add(\"blueberry\")\n",
    "s1.add(\"watermelon\")\n",
    "print(s1)\n",
    "s2 = {1, 3, 5, 7}\n",
    "s3 = s1.union(s2)\n",
    "print(s3)\n",
    "s2.pop()\n",
    "print(s2)\n",
    "s1.clear()\n",
    "print(s1)\n",
    "s3.discard(0)\n",
    "s3.remove(5)\n",
    "print(s3)\n"
   ]
  },
  {
   "cell_type": "markdown",
   "metadata": {},
   "source": [
    "Create a dictionary with at least 5 values of different data types\n",
    "- Print out 1 value\n",
    "- Replace any one value in your dictionary with your name\n",
    "- Add your favorite color to the dictionary\n",
    "- Add a list, tuple or set to your dictionary\n",
    "- Print a list of the dictionary keys\n",
    "- Print a list of the dictionary values\n",
    "- Copy your 1st dictionary into a 2nd dictionary\n",
    "- Pop an item from the 2nd dictionary, and print the dictionary\n",
    "- Remove all the elements from the 2nd dictionary and print the result"
   ]
  },
  {
   "cell_type": "code",
   "execution_count": 36,
   "metadata": {},
   "outputs": [
    {
     "name": "stdout",
     "output_type": "stream",
     "text": [
      "Bob\n",
      "{'age': 27, 'savings': 150.05, 'name': 'Tory', 'tuple': 'x, x2, x3', 'set': {'s3', 's2', 's1'}}\n",
      "dict_keys(['age', 'savings', 'name', 'tuple', 'set', 'Favorite Color', 'tuple2'])\n",
      "dict_values([27, 150.05, 'Tory', 'x, x2, x3', {'s3', 's2', 's1'}, 'Purple', ('t1', 't2', 't3')])\n",
      "{'savings': 150.05, 'name': 'Tory', 'tuple': 'x, x2, x3', 'set': {'s3', 's2', 's1'}, 'Favorite Color': 'Purple', 'tuple2': ('t1', 't2', 't3')}\n",
      "{}\n"
     ]
    }
   ],
   "source": [
    "d1 = {\n",
    "    \"age\" : 27,\n",
    "    \"savings\" : 150.05,\n",
    "    \"name\" : \"Bob\",\n",
    "    \"tuple\" : (\"x, x2, x3\"),\n",
    "    \"set\" : {\"s1\", \"s2\", \"s3\"}\n",
    "    }\n",
    "print(d1[\"name\"])\n",
    "d1[\"name\"] = \"Tory\"\n",
    "print(d1)\n",
    "d1.update({\"Favorite Color\":\"Purple\"})\n",
    "d1.update({\"tuple2\" : (\"t1\", \"t2\", \"t3\")})\n",
    "print(d1.keys())\n",
    "print(d1.values())\n",
    "d2 = d1.copy()\n",
    "d2.pop(\"age\")\n",
    "print(d2)\n",
    "d2.clear()\n",
    "print(d2)\n"
   ]
  }
 ],
 "metadata": {
  "kernelspec": {
   "display_name": "Python 3",
   "language": "python",
   "name": "python3"
  },
  "language_info": {
   "codemirror_mode": {
    "name": "ipython",
    "version": 3
   },
   "file_extension": ".py",
   "mimetype": "text/x-python",
   "name": "python",
   "nbconvert_exporter": "python",
   "pygments_lexer": "ipython3",
   "version": "3.12.7"
  }
 },
 "nbformat": 4,
 "nbformat_minor": 2
}
